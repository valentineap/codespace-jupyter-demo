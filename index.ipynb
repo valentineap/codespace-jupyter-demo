{
 "cells": [
  {
   "cell_type": "markdown",
   "id": "13905a57",
   "metadata": {},
   "source": [
    "# Computational Geoscience Course"
   ]
  },
  {
   "cell_type": "markdown",
   "id": "85ed911f",
   "metadata": {},
   "source": [
    "This course provides an introduction to Python programming for geoscientists. It was developed and delivered at the [Research School of Earth Sciences](https://earthsciences.anu.edu.au), [Australian National University](https://www.anu.edu.au) between 2018 and 2020 by Oscar Branson, Charles Le Losq, Rebecaa McGirr and Andrew Valentine.\n",
    "\n",
    "### Contents\n",
    "- [Format](#Format)\n",
    "- [Assessment](#Asssessment)\n",
    "- [Getting started](#getting-started)\n",
    "   - [On your own computer](#on-your-own-computer)\n",
    "   - [In the cloud](#in-the-cloud)\n",
    "- [Bugs and feedback](#bugs-and-feedback)\n",
    "\n",
    "## Format\n",
    "The course was designed to be taught intensively, with ~45 timetabled hours over 3 weeks. Apart from an [introductory presentation](Slides/slides.pdf), which introduces some basic concepts of computer science, the course is mainly built around self-paced practical exercises. Students completed these in class time, with support from teaching staff, and with regular whole-class discussion/presentation of concepts and particular exercises.\n",
    "\n",
    "Typically, students were able to move forward at a rate of about one practical per 2-3 hour session. Unsurprisingly, there is wide variation across students and across practicals. Students were advised that only material from practicals 1-16 was examinable; practicals 17-20 introduce some more advanced topics. Exercise 11 can be skipped if students are pressed for time.\n",
    "\n",
    "1. [Getting started](notebooks/Exercise%201%20-%20Getting%20started.ipynb) - Note that this describes the Jupyter interface used for teaching at ANU; some details may be different on other platforms, such as Colab.\n",
    "#### Basics\n",
    "2. [Variables and functions](notebooks/Exercise%202%20-%20Variables%20and%20functions.ipynb)\n",
    "3. [Loops and conditionals](notebooks/Exercise%203%20-%20Loops%20and%20conditionals.ipynb)\n",
    "4. [Guessing games](notebooks/Guessing%20Games.ipynb)\n",
    "5. [Lists, tuples and dictionaries](notebooks/Exercise%205%20-%20Lists%2C%20tuples%20and%20dictionaries.ipynb)\n",
    "6. [More loops](notebooks/Exercise%206%20-%20More%20loops.ipynb)\n",
    "7. [Strings](notebooks/Exercise%207%20-%20Strings.ipynb)\n",
    "8. [Reading and writing files](notebooks/Exercise%208%20-%20Reading%20and%20writing%20files.ipynb)\n",
    "9. [Modules](notebooks/Exercise%209%20-%20Modules.ipynb)\n",
    "10. [Exception handling](notebooks/Exercise%2010%20-%20Exception%20handling.ipynb)\n",
    "#### A bit of fun\n",
    "11. [Sudoku](notebooks/Exercise%2011%20-%20Sudoku.ipynb)\n",
    "#### Data, plots and maps\n",
    "12. [Plotting](notebooks/Exercise%2012%20-%20Plotting.ipynb)\n",
    "13. [Radioactive Decay](notebooks/Exercise%2013%20-%20Radioactive%20Decay.ipynb)\n",
    "14. [Pandas](notebooks/Exercise%2014%20-%20Pandas.ipynb)\n",
    "15. [More plotting](notebooks/Exercise%2015%20-%20More%20plotting.ipynb)\n",
    "16. [Maps](notebooks/Exercise%2016%20-%20Maps.ipynb)\n",
    "#### Some more advanced applications\n",
    "17. [Fourier analysis and Milankovitch cycles](notebooks/Exercise%2017%20-%20Fourier%20analysis%20and%20Milankovitch%20cycles.ipynb)\n",
    "18. [Object-oriented programming](notebooks/Exercise%2018%20-%20Object-oriented%20programming.ipynb)\n",
    "19. [Differential equations](notebooks/Exercise%2019%20-%20differential%20equations.ipynb)\n",
    "20. [Sorting algorithms](notebooks/Exercise%2020%20-%20Sorting.ipynb)\n"
   ]
  },
  {
   "cell_type": "code",
   "execution_count": null,
   "id": "ef5df57f",
   "metadata": {},
   "outputs": [],
   "source": []
  },
  {
   "cell_type": "code",
   "execution_count": null,
   "id": "be7a207c",
   "metadata": {},
   "outputs": [],
   "source": []
  }
 ],
 "metadata": {
  "kernelspec": {
   "display_name": "Python 3 (ipykernel)",
   "language": "python",
   "name": "python3"
  },
  "language_info": {
   "codemirror_mode": {
    "name": "ipython",
    "version": 3
   },
   "file_extension": ".py",
   "mimetype": "text/x-python",
   "name": "python",
   "nbconvert_exporter": "python",
   "pygments_lexer": "ipython3",
   "version": "3.10.5"
  }
 },
 "nbformat": 4,
 "nbformat_minor": 5
}
