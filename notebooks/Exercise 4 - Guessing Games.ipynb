{
 "cells": [
  {
   "cell_type": "markdown",
   "metadata": {},
   "source": [
    "# Exercise 4 - Guessing Games #"
   ]
  },
  {
   "cell_type": "markdown",
   "metadata": {},
   "source": [
    "**&#10148; Try playing this simple game.**"
   ]
  },
  {
   "cell_type": "code",
   "execution_count": 4,
   "metadata": {},
   "outputs": [
    {
     "name": "stdout",
     "output_type": "stream",
     "text": [
      "codespace-jupyter-demo\n"
     ]
    }
   ],
   "source": [
    "!echo $RepositoryName"
   ]
  },
  {
   "cell_type": "code",
   "execution_count": 1,
   "metadata": {},
   "outputs": [
    {
     "ename": "ModuleNotFoundError",
     "evalue": "No module named 'guessingGames'",
     "output_type": "error",
     "traceback": [
      "\u001b[0;31m---------------------------------------------------------------------------\u001b[0m",
      "\u001b[0;31mModuleNotFoundError\u001b[0m                       Traceback (most recent call last)",
      "\u001b[1;32m/workspaces/codespace-jupyter-demo/notebooks/Exercise 4 - Guessing Games.ipynb Cell 3\u001b[0m line \u001b[0;36m4\n\u001b[1;32m      <a href='vscode-notebook-cell://codespaces%2Bvigilant-couscous-w5jg4q9rjw3979q/workspaces/codespace-jupyter-demo/notebooks/Exercise%204%20-%20Guessing%20Games.ipynb#W2sdnNjb2RlLXJlbW90ZQ%3D%3D?line=1'>2</a>\u001b[0m \u001b[39mimport\u001b[39;00m \u001b[39msys\u001b[39;00m\n\u001b[1;32m      <a href='vscode-notebook-cell://codespaces%2Bvigilant-couscous-w5jg4q9rjw3979q/workspaces/codespace-jupyter-demo/notebooks/Exercise%204%20-%20Guessing%20Games.ipynb#W2sdnNjb2RlLXJlbW90ZQ%3D%3D?line=2'>3</a>\u001b[0m \u001b[39mimport\u001b[39;00m \u001b[39mos\u001b[39;00m\n\u001b[0;32m----> <a href='vscode-notebook-cell://codespaces%2Bvigilant-couscous-w5jg4q9rjw3979q/workspaces/codespace-jupyter-demo/notebooks/Exercise%204%20-%20Guessing%20Games.ipynb#W2sdnNjb2RlLXJlbW90ZQ%3D%3D?line=3'>4</a>\u001b[0m \u001b[39mimport\u001b[39;00m \u001b[39mguessingGames\u001b[39;00m \u001b[39mas\u001b[39;00m \u001b[39mgg\u001b[39;00m\n\u001b[1;32m      <a href='vscode-notebook-cell://codespaces%2Bvigilant-couscous-w5jg4q9rjw3979q/workspaces/codespace-jupyter-demo/notebooks/Exercise%204%20-%20Guessing%20Games.ipynb#W2sdnNjb2RlLXJlbW90ZQ%3D%3D?line=4'>5</a>\u001b[0m gg\u001b[39m.\u001b[39mguessingGame(nmax\u001b[39m=\u001b[39m\u001b[39m10\u001b[39m)\n",
      "\u001b[0;31mModuleNotFoundError\u001b[0m: No module named 'guessingGames'"
     ]
    }
   ],
   "source": [
    "import numpy as np\n",
    "import sys\n",
    "import os\n",
    "import guessingGames as gg\n",
    "gg.guessingGame(nmax=10)"
   ]
  },
  {
   "cell_type": "markdown",
   "metadata": {},
   "source": [
    "**&#10148; Can you write your own version?**\n",
    "\n",
    "A couple of hints to help you:\n",
    "- To read input from the keyboard, you can use \n",
    "```python\n",
    "x = input(message)\n",
    "```\n",
    "where `message` is the prompt shown to the user (e.g. 'Make a guess:' in `gg.guessingGame`). Whatever the user types in gets stored in the variable `x`. Note that `x` contains a string of characters, even if the user types in a number. You can use `int(x)` to convert the input to an integer (and `float(x)` if you want to convert it to a floating-point number).\n",
    "- To generate a random integer, you can call the function `np.random.randint(lo,hi)` where `lo` is the smallest integer you want to generate, and `hi` is **one greater than** the largest integer."
   ]
  },
  {
   "cell_type": "code",
   "execution_count": null,
   "metadata": {},
   "outputs": [],
   "source": [
    "# Try it here!\n"
   ]
  },
  {
   "cell_type": "markdown",
   "metadata": {},
   "source": [
    "###### What happens if the user types something in that isn't an integer? Can you make your version robust?"
   ]
  },
  {
   "cell_type": "markdown",
   "metadata": {},
   "source": [
    "**&#10148; Here's another one to play:**"
   ]
  },
  {
   "cell_type": "code",
   "execution_count": null,
   "metadata": {},
   "outputs": [],
   "source": [
    "gg.higherOrLower(nmax=100)"
   ]
  },
  {
   "cell_type": "markdown",
   "metadata": {},
   "source": [
    "**&#10148; Try writing your own version.**\n",
    "\n",
    "You should be able to use the code you wrote for `guessingGame` as a starting point."
   ]
  },
  {
   "cell_type": "code",
   "execution_count": null,
   "metadata": {},
   "outputs": [],
   "source": [
    "# Try it here!\n"
   ]
  },
  {
   "cell_type": "markdown",
   "metadata": {},
   "source": [
    "**&#10148; Here's a final one to try.**"
   ]
  },
  {
   "cell_type": "code",
   "execution_count": null,
   "metadata": {},
   "outputs": [],
   "source": [
    "gg.montyHall(3)"
   ]
  },
  {
   "cell_type": "markdown",
   "metadata": {},
   "source": [
    "**&#10148; Can you make your own version?**"
   ]
  },
  {
   "cell_type": "code",
   "execution_count": null,
   "metadata": {},
   "outputs": [],
   "source": [
    "# Try it here!\n"
   ]
  }
 ],
 "metadata": {
  "kernelspec": {
   "display_name": "Python 3 (ipykernel)",
   "language": "python",
   "name": "python3"
  },
  "language_info": {
   "codemirror_mode": {
    "name": "ipython",
    "version": 3
   },
   "file_extension": ".py",
   "mimetype": "text/x-python",
   "name": "python",
   "nbconvert_exporter": "python",
   "pygments_lexer": "ipython3",
   "version": "3.10.13"
  }
 },
 "nbformat": 4,
 "nbformat_minor": 2
}
